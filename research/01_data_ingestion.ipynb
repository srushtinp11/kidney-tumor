{
 "cells": [
  {
   "cell_type": "code",
   "execution_count": 13,
   "id": "a5aa854a",
   "metadata": {},
   "outputs": [],
   "source": [
    "import os"
   ]
  },
  {
   "cell_type": "code",
   "execution_count": 14,
   "id": "c08c6fb5",
   "metadata": {},
   "outputs": [
    {
     "data": {
      "text/plain": [
       "'c:\\\\Users\\\\iamsr\\\\OneDrive\\\\Desktop\\\\my_dlproject\\\\kidney-tumor\\\\research'"
      ]
     },
     "execution_count": 14,
     "metadata": {},
     "output_type": "execute_result"
    }
   ],
   "source": [
    "os.getcwd()"
   ]
  },
  {
   "cell_type": "code",
   "execution_count": 15,
   "id": "14feac01",
   "metadata": {},
   "outputs": [],
   "source": [
    "os.chdir(\"../\")"
   ]
  },
  {
   "cell_type": "code",
   "execution_count": 16,
   "id": "b8805494",
   "metadata": {},
   "outputs": [
    {
     "data": {
      "text/plain": [
       "'c:\\\\Users\\\\iamsr\\\\OneDrive\\\\Desktop\\\\my_dlproject\\\\kidney-tumor'"
      ]
     },
     "execution_count": 16,
     "metadata": {},
     "output_type": "execute_result"
    }
   ],
   "source": [
    "%pwd"
   ]
  },
  {
   "cell_type": "code",
   "execution_count": 17,
   "id": "5fac34ab",
   "metadata": {},
   "outputs": [],
   "source": [
    "## Data Ingestion steps\n",
    "# 1. Update config.yaml\n",
    "# 2. Update secrets.yaml [Optional]\n",
    "# 3. Update params.yaml\n",
    "# 4. Update the entity\n",
    "# 5. Update the configuration manager in src config\n",
    "# 6. Update the components\n",
    "# 7. Update the pipeline \n",
    "# 8. Update the main.py\n",
    "# 9. Update the dvc.yaml\n",
    "# 10. app.py "
   ]
  },
  {
   "cell_type": "code",
   "execution_count": 18,
   "id": "70029d3a",
   "metadata": {},
   "outputs": [],
   "source": [
    "# 1. Update config.yaml\n"
   ]
  },
  {
   "cell_type": "code",
   "execution_count": 19,
   "id": "e5af2b9f",
   "metadata": {},
   "outputs": [],
   "source": [
    "# 3. Update params.yaml"
   ]
  },
  {
   "cell_type": "code",
   "execution_count": 20,
   "id": "af96c32d",
   "metadata": {},
   "outputs": [],
   "source": [
    "# 4. Update the entity"
   ]
  },
  {
   "cell_type": "code",
   "execution_count": 21,
   "id": "0e14f334",
   "metadata": {},
   "outputs": [],
   "source": [
    "# entity code\n",
    "from dataclasses import dataclass\n",
    "from pathlib import Path\n",
    "\n",
    "\n",
    "@dataclass(frozen=True)\n",
    "class DataIngestionConfig:\n",
    "    root_dir: Path\n",
    "    source_URL: str\n",
    "    local_data_file: Path\n",
    "    unzip_dir: Path"
   ]
  },
  {
   "cell_type": "code",
   "execution_count": 22,
   "id": "37a028ed",
   "metadata": {},
   "outputs": [],
   "source": [
    "# 5. Update the configuration manager in src config"
   ]
  },
  {
   "cell_type": "code",
   "execution_count": 24,
   "id": "25c6c028",
   "metadata": {},
   "outputs": [],
   "source": [
    "from src.cnnClassifier.constants import *\n",
    "from src.cnnClassifier.utils.common import read_yaml,create_directories"
   ]
  },
  {
   "cell_type": "code",
   "execution_count": 25,
   "id": "3e503289",
   "metadata": {},
   "outputs": [],
   "source": [
    "class ConfigurationManager:\n",
    "    def __init__(\n",
    "        self,\n",
    "        config_filepath = CONFIG_FILE_PATH,\n",
    "        params_filepath = PARAMS_FILE_PATH):\n",
    "\n",
    "        self.config = read_yaml(config_filepath)\n",
    "        self.params = read_yaml(params_filepath)\n",
    "\n",
    "        create_directories([self.config.artifacts_root])\n",
    "\n",
    "\n",
    "    \n",
    "    def get_data_ingestion_config(self) -> DataIngestionConfig:\n",
    "        config = self.config.data_ingestion\n",
    "\n",
    "        create_directories([config.root_dir])\n",
    "\n",
    "        data_ingestion_config = DataIngestionConfig(\n",
    "            root_dir=config.root_dir,\n",
    "            source_URL=config.source_URL,\n",
    "            local_data_file=config.local_data_file,\n",
    "            unzip_dir=config.unzip_dir \n",
    "        )\n",
    "\n",
    "        return data_ingestion_config"
   ]
  },
  {
   "cell_type": "code",
   "execution_count": 28,
   "id": "dbde82b7",
   "metadata": {},
   "outputs": [],
   "source": [
    "# 6. Update the components (actual logic)"
   ]
  },
  {
   "cell_type": "code",
   "execution_count": 27,
   "id": "33b55c01",
   "metadata": {},
   "outputs": [],
   "source": [
    "import os\n",
    "import zipfile\n",
    "import gdown\n",
    "from src.cnnClassifier import logger\n",
    "from src.cnnClassifier.utils.common import get_size"
   ]
  },
  {
   "cell_type": "code",
   "execution_count": 29,
   "id": "fc62a6b1",
   "metadata": {},
   "outputs": [],
   "source": [
    "class DataIngestion:\n",
    "    def __init__(self, config: DataIngestionConfig):\n",
    "        self.config = config\n",
    "\n",
    "    \n",
    "    def download_file(self)-> str:\n",
    "        '''\n",
    "        Fetch data from the url\n",
    "        '''\n",
    "\n",
    "        try: \n",
    "            dataset_url = self.config.source_URL\n",
    "            zip_download_dir = self.config.local_data_file\n",
    "            os.makedirs(\"artifacts/data_ingestion\", exist_ok=True)\n",
    "            logger.info(f\"Downloading data from {dataset_url} into file {zip_download_dir}\")\n",
    "\n",
    "            file_id = dataset_url.split(\"/\")[-2]\n",
    "            prefix = 'https://drive.google.com/uc?/export=download&id='\n",
    "            gdown.download(prefix+file_id,zip_download_dir)\n",
    "\n",
    "            logger.info(f\"Downloaded data from {dataset_url} into file {zip_download_dir}\")\n",
    "\n",
    "        except Exception as e:\n",
    "            raise e\n",
    "        \n",
    "    \n",
    "\n",
    "    def extract_zip_file(self):\n",
    "        \"\"\"\n",
    "        zip_file_path: str\n",
    "        Extracts the zip file into the data directory\n",
    "        Function returns None\n",
    "        \"\"\"\n",
    "        unzip_path = self.config.unzip_dir\n",
    "        os.makedirs(unzip_path, exist_ok=True)\n",
    "        with zipfile.ZipFile(self.config.local_data_file, 'r') as zip_ref:\n",
    "            zip_ref.extractall(unzip_path)"
   ]
  },
  {
   "cell_type": "code",
   "execution_count": 30,
   "id": "c8e52b70",
   "metadata": {},
   "outputs": [],
   "source": [
    "# 7. Update the pipeline "
   ]
  },
  {
   "cell_type": "code",
   "execution_count": 31,
   "id": "7eda421c",
   "metadata": {},
   "outputs": [
    {
     "name": "stdout",
     "output_type": "stream",
     "text": [
      "[2025-05-05 17:18:38,038: INFO: common: yaml file: config\\config.yaml loaded successfully]\n",
      "[2025-05-05 17:18:38,101: INFO: common: yaml file: params.yaml loaded successfully]\n",
      "[2025-05-05 17:18:38,101: INFO: common: created directory at: artifacts]\n",
      "[2025-05-05 17:18:38,101: INFO: common: created directory at: artifacts/data_ingestion]\n",
      "[2025-05-05 17:18:38,101: INFO: 986331348: Downloading data from https://drive.google.com/file/d/1jLXfLmgCk23re3jmy7GeTviZq6BFnaDh/view?usp=drive_link into file artifacts/data_ingestion/data.zip]\n"
     ]
    },
    {
     "name": "stderr",
     "output_type": "stream",
     "text": [
      "Downloading...\n",
      "From (original): https://drive.google.com/uc?/export=download&id=1jLXfLmgCk23re3jmy7GeTviZq6BFnaDh\n",
      "From (redirected): https://drive.google.com/uc?%2Fexport=download&id=1jLXfLmgCk23re3jmy7GeTviZq6BFnaDh&confirm=t&uuid=e89bf886-e8b7-49fa-818b-603cb372f752\n",
      "To: c:\\Users\\iamsr\\OneDrive\\Desktop\\my_dlproject\\kidney-tumor\\artifacts\\data_ingestion\\data.zip\n",
      "100%|██████████| 57.7M/57.7M [00:09<00:00, 6.10MB/s]"
     ]
    },
    {
     "name": "stdout",
     "output_type": "stream",
     "text": [
      "[2025-05-05 17:18:52,978: INFO: 986331348: Downloaded data from https://drive.google.com/file/d/1jLXfLmgCk23re3jmy7GeTviZq6BFnaDh/view?usp=drive_link into file artifacts/data_ingestion/data.zip]\n"
     ]
    },
    {
     "name": "stderr",
     "output_type": "stream",
     "text": [
      "\n"
     ]
    }
   ],
   "source": [
    "try:\n",
    "    config = ConfigurationManager()\n",
    "    data_ingestion_config = config.get_data_ingestion_config()\n",
    "    data_ingestion = DataIngestion(config=data_ingestion_config)\n",
    "    data_ingestion.download_file()\n",
    "    data_ingestion.extract_zip_file()\n",
    "except Exception as e:\n",
    "    raise e"
   ]
  },
  {
   "cell_type": "code",
   "execution_count": 32,
   "id": "bd060ec7",
   "metadata": {},
   "outputs": [],
   "source": [
    "# 8. Update the main.py"
   ]
  },
  {
   "cell_type": "code",
   "execution_count": null,
   "id": "0b3c1f23",
   "metadata": {},
   "outputs": [],
   "source": []
  }
 ],
 "metadata": {
  "kernelspec": {
   "display_name": "kidney",
   "language": "python",
   "name": "python3"
  },
  "language_info": {
   "codemirror_mode": {
    "name": "ipython",
    "version": 3
   },
   "file_extension": ".py",
   "mimetype": "text/x-python",
   "name": "python",
   "nbconvert_exporter": "python",
   "pygments_lexer": "ipython3",
   "version": "3.12.9"
  }
 },
 "nbformat": 4,
 "nbformat_minor": 5
}
